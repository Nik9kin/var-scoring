{
 "cells": [
  {
   "cell_type": "code",
   "execution_count": 5,
   "id": "d0806f01",
   "metadata": {},
   "outputs": [],
   "source": [
    "import numpy as np\n",
    "import pandas as pd\n",
    "import seaborn as sns\n",
    "import matplotlib.pyplot as plt\n",
    "\n",
    "from tqdm.notebook import tqdm\n",
    "from itertools import product\n",
    "from sklearn.model_selection import GridSearchCV, KFold\n",
    "from sklearn.tree import DecisionTreeClassifier\n",
    "from sklearn.ensemble import RandomForestClassifier\n",
    "from sklearn.linear_model import LogisticRegression\n",
    "from sklearn.preprocessing import OrdinalEncoder\n",
    "from sklearn.metrics import precision_recall_curve, ndcg_score, average_precision_score"
   ]
  },
  {
   "cell_type": "code",
   "execution_count": 6,
   "id": "1489befc",
   "metadata": {},
   "outputs": [],
   "source": [
    "import warnings\n",
    "warnings.filterwarnings('ignore')"
   ]
  },
  {
   "cell_type": "code",
   "execution_count": 7,
   "id": "3a709d84",
   "metadata": {},
   "outputs": [],
   "source": [
    "pd.set_option('display.max_columns', None)  # or 1000"
   ]
  },
  {
   "cell_type": "code",
   "execution_count": 8,
   "id": "e6ab383b",
   "metadata": {},
   "outputs": [],
   "source": [
    "data = pd.read_csv(\"data.csv\")\n",
    "origin_matches = data[data[\"is_origin_pnp\"] == 1].copy()\n",
    "data = data[data[\"is_origin_pnp\"] != 1].copy()\n",
    "\n",
    "# убираем модификации с нулевой массой\n",
    "data = data[abs(data[\"mod_mass_shift\"]) > 0.1]\n",
    "data = data[abs(data[\"mod_mass_shift\"]) < 300.0]\n",
    "\n",
    "# переводим pvalue в логарифмическую шкалу\n",
    "data[\"pvalue\"] = np.log(data[\"pvalue\"])\n",
    "data[\"notblind_pvalue\"] = np.log(data[\"notblind_pvalue\"])\n",
    "data.rename(columns={\"pvalue\": \"log_pvalue\", \"notblind_pvalue\": \"notblind_log_pvalue\"}, inplace=True)\n",
    "\n",
    "# data "
   ]
  },
  {
   "cell_type": "code",
   "execution_count": 9,
   "id": "88fcf1fa",
   "metadata": {},
   "outputs": [
    {
     "data": {
      "text/html": [
       "<div>\n",
       "<style scoped>\n",
       "    .dataframe tbody tr th:only-of-type {\n",
       "        vertical-align: middle;\n",
       "    }\n",
       "\n",
       "    .dataframe tbody tr th {\n",
       "        vertical-align: top;\n",
       "    }\n",
       "\n",
       "    .dataframe thead th {\n",
       "        text-align: right;\n",
       "    }\n",
       "</style>\n",
       "<table border=\"1\" class=\"dataframe\">\n",
       "  <thead>\n",
       "    <tr style=\"text-align: right;\">\n",
       "      <th></th>\n",
       "      <th>scan</th>\n",
       "      <th>parent_mass</th>\n",
       "      <th>ind</th>\n",
       "      <th>mass</th>\n",
       "      <th>num_aa</th>\n",
       "      <th>formula</th>\n",
       "      <th>structure</th>\n",
       "      <th>score</th>\n",
       "      <th>log_pvalue</th>\n",
       "      <th>mod_position</th>\n",
       "      <th>mod_node</th>\n",
       "      <th>mod_mass_shift</th>\n",
       "      <th>deg</th>\n",
       "      <th>is_origin_pnp</th>\n",
       "      <th>correctness</th>\n",
       "      <th>mod_mass_freq</th>\n",
       "    </tr>\n",
       "  </thead>\n",
       "  <tbody>\n",
       "    <tr>\n",
       "      <th>0</th>\n",
       "      <td>7</td>\n",
       "      <td>661.386724</td>\n",
       "      <td>(0, 376)</td>\n",
       "      <td>703.431</td>\n",
       "      <td>5</td>\n",
       "      <td>C40H57N5O6</td>\n",
       "      <td>linear</td>\n",
       "      <td>6.0</td>\n",
       "      <td>-30.010078</td>\n",
       "      <td>0</td>\n",
       "      <td>('C12H19O', 179.144)</td>\n",
       "      <td>-42.04420</td>\n",
       "      <td>1</td>\n",
       "      <td>0</td>\n",
       "      <td>correctly found replacement</td>\n",
       "      <td>0.030516</td>\n",
       "    </tr>\n",
       "    <tr>\n",
       "      <th>1</th>\n",
       "      <td>7</td>\n",
       "      <td>661.386724</td>\n",
       "      <td>(0, 3239)</td>\n",
       "      <td>721.441</td>\n",
       "      <td>5</td>\n",
       "      <td>C40H59N5O7</td>\n",
       "      <td>linear</td>\n",
       "      <td>6.0</td>\n",
       "      <td>-30.010078</td>\n",
       "      <td>0</td>\n",
       "      <td>('C12H21O2', 197.154)</td>\n",
       "      <td>-60.05470</td>\n",
       "      <td>1</td>\n",
       "      <td>0</td>\n",
       "      <td>correctly found replacement</td>\n",
       "      <td>0.004602</td>\n",
       "    </tr>\n",
       "    <tr>\n",
       "      <th>3</th>\n",
       "      <td>65</td>\n",
       "      <td>606.402724</td>\n",
       "      <td>(0, 511)</td>\n",
       "      <td>620.415</td>\n",
       "      <td>4</td>\n",
       "      <td>C33H56N4O7</td>\n",
       "      <td>cyclic</td>\n",
       "      <td>7.0</td>\n",
       "      <td>-34.502724</td>\n",
       "      <td>0</td>\n",
       "      <td>('C21H40O2', 324.303)</td>\n",
       "      <td>-14.01220</td>\n",
       "      <td>2</td>\n",
       "      <td>0</td>\n",
       "      <td>correctly found replacement</td>\n",
       "      <td>0.252240</td>\n",
       "    </tr>\n",
       "    <tr>\n",
       "      <th>4</th>\n",
       "      <td>65</td>\n",
       "      <td>606.402724</td>\n",
       "      <td>(0, 1300)</td>\n",
       "      <td>494.274</td>\n",
       "      <td>4</td>\n",
       "      <td>C24H38N4O7</td>\n",
       "      <td>cyclic</td>\n",
       "      <td>7.0</td>\n",
       "      <td>-34.502724</td>\n",
       "      <td>0</td>\n",
       "      <td>('C12H22O2', 198.162)</td>\n",
       "      <td>112.12900</td>\n",
       "      <td>2</td>\n",
       "      <td>0</td>\n",
       "      <td>correctly found replacement</td>\n",
       "      <td>0.002422</td>\n",
       "    </tr>\n",
       "    <tr>\n",
       "      <th>7</th>\n",
       "      <td>77</td>\n",
       "      <td>595.307724</td>\n",
       "      <td>(0, 94)</td>\n",
       "      <td>609.327</td>\n",
       "      <td>5</td>\n",
       "      <td>C31H43N7O6</td>\n",
       "      <td>linear</td>\n",
       "      <td>5.0</td>\n",
       "      <td>-28.425074</td>\n",
       "      <td>0</td>\n",
       "      <td>('C6H11NO', 113.084)</td>\n",
       "      <td>-14.01980</td>\n",
       "      <td>2</td>\n",
       "      <td>0</td>\n",
       "      <td>correctly found replacement</td>\n",
       "      <td>0.252240</td>\n",
       "    </tr>\n",
       "    <tr>\n",
       "      <th>...</th>\n",
       "      <td>...</td>\n",
       "      <td>...</td>\n",
       "      <td>...</td>\n",
       "      <td>...</td>\n",
       "      <td>...</td>\n",
       "      <td>...</td>\n",
       "      <td>...</td>\n",
       "      <td>...</td>\n",
       "      <td>...</td>\n",
       "      <td>...</td>\n",
       "      <td>...</td>\n",
       "      <td>...</td>\n",
       "      <td>...</td>\n",
       "      <td>...</td>\n",
       "      <td>...</td>\n",
       "      <td>...</td>\n",
       "    </tr>\n",
       "    <tr>\n",
       "      <th>17948</th>\n",
       "      <td>11680</td>\n",
       "      <td>703.432724</td>\n",
       "      <td>(0, 3239)</td>\n",
       "      <td>721.441</td>\n",
       "      <td>5</td>\n",
       "      <td>C40H59N5O7</td>\n",
       "      <td>linear</td>\n",
       "      <td>6.0</td>\n",
       "      <td>-32.718716</td>\n",
       "      <td>0</td>\n",
       "      <td>('C12H21O2', 197.154)</td>\n",
       "      <td>-18.00870</td>\n",
       "      <td>1</td>\n",
       "      <td>0</td>\n",
       "      <td>correctly found replacement</td>\n",
       "      <td>0.017801</td>\n",
       "    </tr>\n",
       "    <tr>\n",
       "      <th>17950</th>\n",
       "      <td>11836</td>\n",
       "      <td>1036.482724</td>\n",
       "      <td>(0, 523)</td>\n",
       "      <td>1022.470</td>\n",
       "      <td>8</td>\n",
       "      <td>C53H66N8O13</td>\n",
       "      <td>branch-cyclic</td>\n",
       "      <td>12.0</td>\n",
       "      <td>-56.714229</td>\n",
       "      <td>7</td>\n",
       "      <td>('C3H4NO2', 86.0242)</td>\n",
       "      <td>14.00780</td>\n",
       "      <td>3</td>\n",
       "      <td>0</td>\n",
       "      <td>correctly found replacement</td>\n",
       "      <td>0.252240</td>\n",
       "    </tr>\n",
       "    <tr>\n",
       "      <th>17951</th>\n",
       "      <td>11836</td>\n",
       "      <td>1036.482724</td>\n",
       "      <td>(0, 992)</td>\n",
       "      <td>1038.510</td>\n",
       "      <td>8</td>\n",
       "      <td>C54H70N8O13</td>\n",
       "      <td>branch-cyclic</td>\n",
       "      <td>12.0</td>\n",
       "      <td>-56.714229</td>\n",
       "      <td>4</td>\n",
       "      <td>('C10H11NO2', 177.079)</td>\n",
       "      <td>-2.02351</td>\n",
       "      <td>2</td>\n",
       "      <td>0</td>\n",
       "      <td>correctly found replacement</td>\n",
       "      <td>0.039840</td>\n",
       "    </tr>\n",
       "    <tr>\n",
       "      <th>17954</th>\n",
       "      <td>11836</td>\n",
       "      <td>1036.482724</td>\n",
       "      <td>(0, 1788)</td>\n",
       "      <td>1198.550</td>\n",
       "      <td>8</td>\n",
       "      <td>C54H78N12O19</td>\n",
       "      <td>cyclic</td>\n",
       "      <td>9.0</td>\n",
       "      <td>-37.951198</td>\n",
       "      <td>3</td>\n",
       "      <td>('C9H9NO3', 179.058)</td>\n",
       "      <td>-162.06800</td>\n",
       "      <td>2</td>\n",
       "      <td>0</td>\n",
       "      <td>incorrect (6 -&gt; 6)</td>\n",
       "      <td>0.006902</td>\n",
       "    </tr>\n",
       "    <tr>\n",
       "      <th>17955</th>\n",
       "      <td>11836</td>\n",
       "      <td>1036.482724</td>\n",
       "      <td>(0, 4146)</td>\n",
       "      <td>1174.600</td>\n",
       "      <td>10</td>\n",
       "      <td>C57H82N12O15</td>\n",
       "      <td>branch-cyclic</td>\n",
       "      <td>7.0</td>\n",
       "      <td>-26.039340</td>\n",
       "      <td>7</td>\n",
       "      <td>('C9H9NO', 147.068)</td>\n",
       "      <td>-138.12000</td>\n",
       "      <td>2</td>\n",
       "      <td>0</td>\n",
       "      <td>incorrect (7 -&gt; 5)</td>\n",
       "      <td>0.000484</td>\n",
       "    </tr>\n",
       "  </tbody>\n",
       "</table>\n",
       "<p>14800 rows × 16 columns</p>\n",
       "</div>"
      ],
      "text/plain": [
       "        scan  parent_mass        ind      mass  num_aa       formula  \\\n",
       "0          7   661.386724   (0, 376)   703.431       5    C40H57N5O6   \n",
       "1          7   661.386724  (0, 3239)   721.441       5    C40H59N5O7   \n",
       "3         65   606.402724   (0, 511)   620.415       4    C33H56N4O7   \n",
       "4         65   606.402724  (0, 1300)   494.274       4    C24H38N4O7   \n",
       "7         77   595.307724    (0, 94)   609.327       5    C31H43N7O6   \n",
       "...      ...          ...        ...       ...     ...           ...   \n",
       "17948  11680   703.432724  (0, 3239)   721.441       5    C40H59N5O7   \n",
       "17950  11836  1036.482724   (0, 523)  1022.470       8   C53H66N8O13   \n",
       "17951  11836  1036.482724   (0, 992)  1038.510       8   C54H70N8O13   \n",
       "17954  11836  1036.482724  (0, 1788)  1198.550       8  C54H78N12O19   \n",
       "17955  11836  1036.482724  (0, 4146)  1174.600      10  C57H82N12O15   \n",
       "\n",
       "           structure  score  log_pvalue  mod_position                mod_node  \\\n",
       "0             linear    6.0  -30.010078             0    ('C12H19O', 179.144)   \n",
       "1             linear    6.0  -30.010078             0   ('C12H21O2', 197.154)   \n",
       "3             cyclic    7.0  -34.502724             0   ('C21H40O2', 324.303)   \n",
       "4             cyclic    7.0  -34.502724             0   ('C12H22O2', 198.162)   \n",
       "7             linear    5.0  -28.425074             0    ('C6H11NO', 113.084)   \n",
       "...              ...    ...         ...           ...                     ...   \n",
       "17948         linear    6.0  -32.718716             0   ('C12H21O2', 197.154)   \n",
       "17950  branch-cyclic   12.0  -56.714229             7    ('C3H4NO2', 86.0242)   \n",
       "17951  branch-cyclic   12.0  -56.714229             4  ('C10H11NO2', 177.079)   \n",
       "17954         cyclic    9.0  -37.951198             3    ('C9H9NO3', 179.058)   \n",
       "17955  branch-cyclic    7.0  -26.039340             7     ('C9H9NO', 147.068)   \n",
       "\n",
       "       mod_mass_shift  deg  is_origin_pnp                  correctness  \\\n",
       "0           -42.04420    1              0  correctly found replacement   \n",
       "1           -60.05470    1              0  correctly found replacement   \n",
       "3           -14.01220    2              0  correctly found replacement   \n",
       "4           112.12900    2              0  correctly found replacement   \n",
       "7           -14.01980    2              0  correctly found replacement   \n",
       "...               ...  ...            ...                          ...   \n",
       "17948       -18.00870    1              0  correctly found replacement   \n",
       "17950        14.00780    3              0  correctly found replacement   \n",
       "17951        -2.02351    2              0  correctly found replacement   \n",
       "17954      -162.06800    2              0           incorrect (6 -> 6)   \n",
       "17955      -138.12000    2              0           incorrect (7 -> 5)   \n",
       "\n",
       "       mod_mass_freq  \n",
       "0           0.030516  \n",
       "1           0.004602  \n",
       "3           0.252240  \n",
       "4           0.002422  \n",
       "7           0.252240  \n",
       "...              ...  \n",
       "17948       0.017801  \n",
       "17950       0.252240  \n",
       "17951       0.039840  \n",
       "17954       0.006902  \n",
       "17955       0.000484  \n",
       "\n",
       "[14800 rows x 16 columns]"
      ]
     },
     "execution_count": 9,
     "metadata": {},
     "output_type": "execute_result"
    }
   ],
   "source": [
    "keys2drop = [\"notblind_score\", \"notblind_log_pvalue\", \"nps_score\", \"nps_mod_position\", \"nps_mod_node\", \n",
    "             \"nps_mod_mass_shift\", \"nps_in_deg\", \"nps_out_deg\", \"nps_deg\", \"nps_correctness\", \"in_deg\", \n",
    "             \"out_deg\", \"component\", \"is_cluster_correct\", \n",
    "            ]\n",
    "\n",
    "data.drop(columns = keys2drop, inplace=True)\n",
    "data"
   ]
  },
  {
   "cell_type": "code",
   "execution_count": 10,
   "id": "b1e9c4e5",
   "metadata": {},
   "outputs": [
    {
     "data": {
      "image/png": "[encoded data removed]",
      "text/plain": [
       "<Figure size 432x288 with 1 Axes>"
      ]
     },
     "metadata": {
      "needs_background": "light"
     },
     "output_type": "display_data"
    }
   ],
   "source": [
    "plt.hist(data[\"mod_mass_freq\"], bins=300)\n",
    "plt.show()"
   ]
  },
  {
   "cell_type": "code",
   "execution_count": 11,
   "id": "3780bcf5",
   "metadata": {},
   "outputs": [],
   "source": [
    "keys2viz = [\"mass\", \"num_aa\", \"score\", \"logpvalue\", \"mod_node\", \"mod_mass_shift\", \"deg\", \"mod_mass_freq\"]\n",
    "\n",
    "# print(data.loc[data[\"scan\"] == 487, keys2viz].to_latex(index=False))"
   ]
  },
  {
   "cell_type": "markdown",
   "id": "bb64bd71",
   "metadata": {},
   "source": [
    "### Определяем истинные метки"
   ]
  },
  {
   "cell_type": "code",
   "execution_count": 12,
   "id": "347645b0",
   "metadata": {},
   "outputs": [
    {
     "data": {
      "text/plain": [
       "correctly found replacement                          1058\n",
       "correctly found replacement, but neighbour marked     328\n",
       "correctly found insertion                              58\n",
       "correctly found deletion                               16\n",
       "insertion of a large number of AA (3)                  12\n",
       "Name: correctness, dtype: int64"
      ]
     },
     "execution_count": 12,
     "metadata": {},
     "output_type": "execute_result"
    }
   ],
   "source": [
    "data[~data[\"correctness\"].str.startswith(\"incorrect\")][\"correctness\"].value_counts()"
   ]
  },
  {
   "cell_type": "code",
   "execution_count": 13,
   "id": "0f79f496",
   "metadata": {},
   "outputs": [
    {
     "data": {
      "text/plain": [
       "incorrect (2 -> 2)      1596\n",
       "incorrect (3 -> 3)      1533\n",
       "incorrect (4 -> 4)      1164\n",
       "incorrect (5 -> 5)       575\n",
       "incorrect (4 -> 3)       469\n",
       "                        ... \n",
       "incorrect (11 -> 10)       1\n",
       "incorrect (11 -> 14)       1\n",
       "incorrect (9 -> 14)        1\n",
       "incorrect (12 -> 7)        1\n",
       "incorrect (1 -> 5)         1\n",
       "Name: correctness, Length: 92, dtype: int64"
      ]
     },
     "execution_count": 13,
     "metadata": {},
     "output_type": "execute_result"
    }
   ],
   "source": [
    "data[data[\"correctness\"].str.startswith(\"incorrect\")][\"correctness\"].value_counts()"
   ]
  },
  {
   "cell_type": "code",
   "execution_count": 14,
   "id": "2f37579a",
   "metadata": {},
   "outputs": [
    {
     "data": {
      "text/plain": [
       "incorrect (2 -> 2)    1596\n",
       "incorrect (2 -> 3)     375\n",
       "incorrect (3 -> 2)     324\n",
       "incorrect (2 -> 4)     252\n",
       "incorrect (1 -> 2)     197\n",
       "incorrect (4 -> 2)     159\n",
       "incorrect (1 -> 3)     150\n",
       "incorrect (2 -> 1)     131\n",
       "incorrect (2 -> 5)     114\n",
       "incorrect (1 -> 4)      36\n",
       "incorrect (3 -> 1)      21\n",
       "incorrect (2 -> 6)      14\n",
       "incorrect (5 -> 2)       3\n",
       "incorrect (1 -> 6)       2\n",
       "incorrect (1 -> 5)       1\n",
       "Name: correctness, dtype: int64"
      ]
     },
     "execution_count": 14,
     "metadata": {},
     "output_type": "execute_result"
    }
   ],
   "source": [
    "data[(data[\"correctness\"].str.startswith(\"incorrect (1 \")) | \n",
    "     (data[\"correctness\"].str.startswith(\"incorrect (2 \")) | \n",
    "     (data[\"correctness\"].str.endswith(\" 1)\")) | \n",
    "     (data[\"correctness\"].str.endswith(\" 2)\"))\n",
    "    ][\"correctness\"].value_counts()"
   ]
  },
  {
   "cell_type": "code",
   "execution_count": 15,
   "id": "e247f92a",
   "metadata": {},
   "outputs": [],
   "source": [
    "appropriate_correctness = [\"correctly found replacement\", \n",
    "                           \"correctly found replacement, but neighbour marked\", \n",
    "                           \"correctly found insertion\", \n",
    "                           \"correctly found deletion\", \n",
    "                           \"incorrect (2 -> 2)\", \n",
    "                          ]\n",
    "\n",
    "def correctness2binary(correctness: str):\n",
    "    return int(correctness in appropriate_correctness)\n",
    "\n",
    "data[\"binary_true\"] = data[\"correctness\"].apply(correctness2binary)"
   ]
  },
  {
   "cell_type": "markdown",
   "id": "ecba0f91",
   "metadata": {},
   "source": [
    "### Убираем сканы, где все матчи только (не)правильные"
   ]
  },
  {
   "cell_type": "code",
   "execution_count": 16,
   "id": "0cd98a21",
   "metadata": {},
   "outputs": [
    {
     "data": {
      "text/plain": [
       "(349,)"
      ]
     },
     "execution_count": 16,
     "metadata": {},
     "output_type": "execute_result"
    }
   ],
   "source": [
    "data[\"scan\"].unique().shape"
   ]
  },
  {
   "cell_type": "code",
   "execution_count": 17,
   "id": "9a431eda",
   "metadata": {},
   "outputs": [
    {
     "data": {
      "text/plain": [
       "(292,)"
      ]
     },
     "execution_count": 17,
     "metadata": {},
     "output_type": "execute_result"
    }
   ],
   "source": [
    "appropriate_scans = []\n",
    "\n",
    "for scan in data[\"scan\"].unique():\n",
    "    labels = data[data[\"scan\"] == scan][\"binary_true\"]\n",
    "    if 0 < sum(labels) < len(labels):\n",
    "        appropriate_scans.append(scan)\n",
    "\n",
    "appropriate_scans = np.array(appropriate_scans)\n",
    "appropriate_scans.shape"
   ]
  },
  {
   "cell_type": "code",
   "execution_count": 18,
   "id": "4c9d5dae",
   "metadata": {},
   "outputs": [],
   "source": [
    "# scans = data[\"scan\"].unique()\n",
    "scans = appropriate_scans.copy()\n",
    "n_scans = scans.shape[0]\n",
    "\n",
    "rng = np.random.default_rng(17)\n",
    "rng.shuffle(scans)\n",
    "\n",
    "train_scans = scans[:int(0.8 * n_scans)]\n",
    "test_scans = scans[int(0.8 * n_scans):]\n",
    "train_scans.sort()\n",
    "test_scans.sort()"
   ]
  },
  {
   "cell_type": "code",
   "execution_count": 20,
   "id": "4247f0f3",
   "metadata": {},
   "outputs": [
    {
     "data": {
      "text/plain": [
       "((11348, 12), (3171, 12))"
      ]
     },
     "execution_count": 20,
     "metadata": {},
     "output_type": "execute_result"
    }
   ],
   "source": [
    "feature_columns = [\"scan\", \"mass\", \"num_aa\", \"formula\", \"structure\", \"score\", \"log_pvalue\", \"mod_node\", \n",
    "                   \"mod_mass_shift\", \"deg\", \"mod_mass_freq\", \"binary_true\", \n",
    "                  ]\n",
    "\n",
    "df_train = data.loc[data[\"scan\"].isin(train_scans), feature_columns].copy()\n",
    "df_test = data.loc[data[\"scan\"].isin(test_scans), feature_columns].copy()\n",
    "\n",
    "df_train.shape, df_test.shape"
   ]
  },
  {
   "cell_type": "code",
   "execution_count": 21,
   "id": "1ce4ab01",
   "metadata": {},
   "outputs": [
    {
     "data": {
      "image/png": "[encoded data removed]",
      "text/plain": [
       "<Figure size 864x720 with 2 Axes>"
      ]
     },
     "metadata": {
      "needs_background": "light"
     },
     "output_type": "display_data"
    }
   ],
   "source": [
    "plt.figure(figsize=(12, 10))\n",
    "plt.title(\"Feature correlation\", fontsize=15)\n",
    "cor = df_train.drop(columns=[\"scan\"]).corr()\n",
    "sns.heatmap(cor, annot=True, cmap=plt.cm.Reds)\n",
    "plt.savefig(\"FeatureCor.png\")\n",
    "plt.show()"
   ]
  },
  {
   "cell_type": "code",
   "execution_count": null,
   "id": "1b79430a",
   "metadata": {},
   "outputs": [],
   "source": [
    "feature_columns = [\"scan\", \"formula\", \"structure\", \"notblind_pvalue\", \"pvalue\", \"mod_node\", \"mod_mass_shift\", \n",
    "                   \"mod_mass_freq\", \"binary_true\"]\n",
    "\n",
    "df_train = data.loc[data[\"scan\"].isin(train_scans), feature_columns].copy()\n",
    "df_test = data.loc[data[\"scan\"].isin(test_scans), feature_columns].copy()\n",
    "\n",
    "df_train.shape, df_test.shape"
   ]
  },
  {
   "cell_type": "markdown",
   "id": "141479fb",
   "metadata": {},
   "source": [
    "## Метрики качества"
   ]
  },
  {
   "cell_type": "code",
   "execution_count": null,
   "id": "e684fee4",
   "metadata": {},
   "outputs": [],
   "source": [
    "# def roc_auc(y_pred, scan, top_k=10000):\n",
    "#     df = pd.concat([pd.DataFrame(y_pred, columns=[\"y_pred\"]), \n",
    "#                     data[data[\"scan\"] == scan][[\"pvalue\", \"binary_true\"]].reset_index(drop=True)\n",
    "#                    ], axis=1).sort_values([\"y_pred\", \"pvalue\"], ascending=False)[:top_k]\n",
    "    \n",
    "#     n_ones = np.array(df.groupby([\"y_pred\", \"pvalue\"], sort=True).sum())\n",
    "#     n_zeros = np.array(df.groupby([\"y_pred\", \"pvalue\"], sort=True).count()) - n_ones\n",
    "    \n",
    "#     if sum(n_zeros) == 0:\n",
    "#         return 1.0\n",
    "#     elif sum(n_ones) == 0:\n",
    "#         return 0.0\n",
    "    \n",
    "#     n_ones = np.insert(np.cumsum(n_ones), 0, 0)\n",
    "#     n_ones = n_ones / n_ones[-1]\n",
    "#     n_zeros = np.insert(np.cumsum(n_zeros), 0, 0)\n",
    "#     n_zeros = n_zeros / n_zeros[-1]\n",
    "    \n",
    "#     return 0.5 * np.dot(n_ones[1:] - n_ones[:-1], n_zeros[1:] + n_zeros[:-1])\n",
    "\n",
    "\n",
    "# def mean_roc_auc(y_preds, scans, top_k=10000):\n",
    "#     lens = [len(data[data[\"scan\"] == scan]) for scan in scans]\n",
    "#     split_indices = np.cumsum(lens)\n",
    "#     scores = np.array([roc_auc(y_pred, scan, top_k) for y_pred, scan in \n",
    "#                        zip(np.split(y_preds, split_indices[:-1]), scans)])\n",
    "    \n",
    "#     return np.mean(scores), np.std(scores)\n",
    "\n",
    "\n",
    "def mean_average_precision(y_preds, scans, top_k=10000):\n",
    "    lens = [len(data[data[\"scan\"] == scan]) for scan in scans]\n",
    "    split_indices = np.cumsum(lens)\n",
    "    scores = np.array([average_precision_score(np.array(data.loc[data[\"scan\"] == scan, \"binary_true\"]), y_pred) \n",
    "                       for y_pred, scan in zip(np.split(y_preds, split_indices[:-1]), scans)])\n",
    "    \n",
    "    return np.mean(scores), np.std(scores)\n",
    "\n",
    "\n",
    "def mean_ndcg(y_preds, scans, top_k=10000):\n",
    "    lens = [len(data[data[\"scan\"] == scan]) for scan in scans]\n",
    "    split_indices = np.cumsum(lens)\n",
    "    scores = np.array([ndcg_score(np.array(data.loc[data[\"scan\"] == scan, \"binary_true\"]).reshape(1, -1), \n",
    "                                  y_pred.reshape(1, -1), k=top_k) \n",
    "                       for y_pred, scan in zip(np.split(y_preds, split_indices[:-1]), scans)])\n",
    "    \n",
    "    return np.mean(scores), np.std(scores)"
   ]
  },
  {
   "cell_type": "markdown",
   "id": "4fe3a1d4",
   "metadata": {},
   "source": [
    "### Посмотрим, как обстоят дела до обучения"
   ]
  },
  {
   "cell_type": "code",
   "execution_count": null,
   "id": "72d02537",
   "metadata": {},
   "outputs": [],
   "source": [
    "# print(mean_roc_auc(np.array(df_test[\"pvalue\"]), test_scans))\n",
    "# print(mean_roc_auc(np.array(df_test[\"pvalue\"]), test_scans, top_k=5))\n",
    "print(\"MAP    = %0.3f (+/- %0.3f)\" % mean_average_precision(np.array(df_test[\"pvalue\"]), test_scans))\n",
    "print(\"NDCG   = %0.3f (+/- %0.3f)\" % mean_ndcg(np.array(df_test[\"pvalue\"]), test_scans))\n",
    "print(\"NDCG@1 = %0.3f (+/- %0.3f)\" % mean_ndcg(np.array(df_test[\"pvalue\"]), test_scans, top_k=1))\n",
    "print(\"NDCG@5 = %0.3f (+/- %0.3f)\" % mean_ndcg(np.array(df_test[\"pvalue\"]), test_scans, top_k=5))"
   ]
  },
  {
   "cell_type": "markdown",
   "id": "e8c0d54f",
   "metadata": {},
   "source": [
    "У нас будут разные модели"
   ]
  },
  {
   "cell_type": "code",
   "execution_count": null,
   "id": "8ada04b0",
   "metadata": {},
   "outputs": [],
   "source": [
    "models = {}\n",
    "param_grids = {}\n",
    "best_estimators = {}\n",
    "best_params = {}"
   ]
  },
  {
   "cell_type": "markdown",
   "id": "77c42db0",
   "metadata": {},
   "source": [
    "# Binary Classifiers"
   ]
  },
  {
   "cell_type": "markdown",
   "id": "cf70b1a0",
   "metadata": {},
   "source": [
    "## Features Preparing"
   ]
  },
  {
   "cell_type": "code",
   "execution_count": null,
   "id": "e65e17e8",
   "metadata": {},
   "outputs": [],
   "source": [
    "df_train"
   ]
  },
  {
   "cell_type": "code",
   "execution_count": null,
   "id": "ab0d7bbf",
   "metadata": {},
   "outputs": [],
   "source": [
    "df_train.describe()"
   ]
  },
  {
   "cell_type": "code",
   "execution_count": null,
   "id": "aceec63f",
   "metadata": {},
   "outputs": [],
   "source": [
    "# ori_matches = origin_matches[origin_matches[\"scan\"].isin(train_scans)]\n",
    "# ori_matches"
   ]
  },
  {
   "cell_type": "code",
   "execution_count": null,
   "id": "c9082d06",
   "metadata": {},
   "outputs": [],
   "source": [
    "# plt.figure(figsize=(10, 10))\n",
    "\n",
    "# plt.hist2d(ori_matches[\"num_aa\"], ori_matches[\"mass\"], bins=50)\n",
    "# # plt.scatter(ori_matches[\"num_aa\"], ori_matches[\"score\"])\n",
    "# plt.show()"
   ]
  },
  {
   "cell_type": "code",
   "execution_count": null,
   "id": "78e51942",
   "metadata": {},
   "outputs": [],
   "source": [
    "# plt.figure(figsize=(10, 10))\n",
    "\n",
    "# plt.hist2d(ori_matches[\"num_aa\"], ori_matches[\"score\"], bins=50)\n",
    "# # plt.scatter(ori_matches[\"num_aa\"], ori_matches[\"score\"])\n",
    "# plt.show()"
   ]
  },
  {
   "cell_type": "code",
   "execution_count": null,
   "id": "4ca12374",
   "metadata": {},
   "outputs": [],
   "source": [
    "# ori_matches[ori_matches[\"score\"] / ori_matches[\"num_aa\"] < 0.5]"
   ]
  },
  {
   "cell_type": "code",
   "execution_count": null,
   "id": "74dce0de",
   "metadata": {},
   "outputs": [],
   "source": [
    "# df1 = df_train[df_train[\"binary_true\"] == 1].copy()\n",
    "# df0 = df_train[df_train[\"binary_true\"] == 0].copy()\n",
    "\n",
    "# plt.figure(figsize=(40, 30))\n",
    "# plt.scatter(df1[\"mod_mass_shift\"], df1[\"pvalue\"], c='r', marker='.')\n",
    "# plt.scatter(df0[\"mod_mass_shift\"], df0[\"pvalue\"], c='b', marker='.')\n",
    "# plt.show()"
   ]
  },
  {
   "cell_type": "code",
   "execution_count": null,
   "id": "b2b65f98",
   "metadata": {},
   "outputs": [],
   "source": [
    "df_train"
   ]
  },
  {
   "cell_type": "code",
   "execution_count": null,
   "id": "5b0164f9",
   "metadata": {},
   "outputs": [],
   "source": [
    "def features_preparing(df: pd.DataFrame, means=None, stds=None, normalize=False):\n",
    "    X = df[[\"mod_mass_shift\", \"mod_mass_freq\"]].copy()\n",
    "    X[\"mod_mass_shift\"] = np.abs(X[\"mod_mass_shift\"])\n",
    "    X[\"mod_mass_fraction\"] = X[\"mod_mass_shift\"].apply(lambda x: 0.5 - abs(x - np.floor(x) - 0.5))\n",
    "    X[\"log_pvalue\"] = df[\"pvalue\"]\n",
    "    X[\"pvalue_changing\"] = df[\"pvalue\"] - df[\"notblind_pvalue\"]\n",
    "    \n",
    "    if normalize:\n",
    "        X.drop(columns=[\"mod_mass_shift\"], inplace=True)\n",
    "        if means is None or stds is None:\n",
    "            means = X.mean()\n",
    "            stds = X.std()\n",
    "        X = (X - means) / stds\n",
    "    \n",
    "    y = df[\"binary_true\"].copy()\n",
    "    \n",
    "    return X, y, means, stds"
   ]
  },
  {
   "cell_type": "code",
   "execution_count": null,
   "id": "a50fbc1c",
   "metadata": {},
   "outputs": [],
   "source": [
    "X_train, y_train, *_ = features_preparing(df_train)\n",
    "X_test, y_test, *_ = features_preparing(df_test)\n",
    "X_train_normalized, _, means, stds = features_preparing(df_train, normalize=True)\n",
    "X_test_normalized, *_ = features_preparing(df_test, means=means, stds=stds, normalize=True)\n",
    "\n",
    "\n",
    "X_train"
   ]
  },
  {
   "cell_type": "code",
   "execution_count": null,
   "id": "68fdec50",
   "metadata": {},
   "outputs": [],
   "source": [
    "X_train_normalized"
   ]
  },
  {
   "cell_type": "code",
   "execution_count": null,
   "id": "0ea0bd8f",
   "metadata": {},
   "outputs": [],
   "source": [
    "X_train_normalized.describe()"
   ]
  },
  {
   "cell_type": "code",
   "execution_count": null,
   "id": "6a42963b",
   "metadata": {},
   "outputs": [],
   "source": [
    "def kfold_cross_validation(classifier, param_grid, scoring, X_train, y_train, n_splits=5):\n",
    "    kf = KFold(n_splits=n_splits)\n",
    "\n",
    "    best_score = 0\n",
    "\n",
    "    for p in product(*param_grid.values()):\n",
    "        param = {k: v for k, v in zip(param_grid.keys(), p)}\n",
    "        val_scores = []\n",
    "        val_stds = []\n",
    "        for train_index, val_index in kf.split(train_scans):\n",
    "            clf = classifier(random_state=17, **param)\n",
    "            if classifier == LogisticRegression:\n",
    "                clf.tol = 1e-6\n",
    "                clf.solver = \"liblinear\"\n",
    "                clf.max_iter = 1000\n",
    "            \n",
    "            ind1 = data[data[\"scan\"].isin(train_scans[train_index])].index\n",
    "            ind2 = data[data[\"scan\"].isin(train_scans[val_index])].index\n",
    "            clf.fit(X_train.loc[ind1], y_train[ind1])\n",
    "            \n",
    "            if classifier == LogisticRegression:\n",
    "                y_pred = clf.predict_proba(X_train.loc[ind2])[:, 1]\n",
    "            else:\n",
    "                y_pred = clf.predict(X_train.loc[ind2])\n",
    "            \n",
    "            mean, std = scoring(y_pred, np.sort(train_scans[val_index]))\n",
    "            val_scores.append(mean)\n",
    "            val_stds.append(std)\n",
    "        \n",
    "        val_scores = np.array(val_scores)\n",
    "        val_stds = np.array(val_stds)\n",
    "        \n",
    "        if val_scores.mean() > best_score:\n",
    "            best_score = val_scores.mean()\n",
    "            best_param = param\n",
    "        print(\"%0.4f (+/-%0.4f) for %r\" % (val_scores.mean(), np.square((val_stds ** 2).sum()), param))\n",
    "\n",
    "    print(\"Best result for: \", best_param)\n",
    "    \n",
    "    return best_param\n",
    "\n",
    "def score_on_test(model_name, scoring, X_test, top_k=10000):\n",
    "    if model_name == \"logreg\":\n",
    "        y_pred = best_estimators[model_name].predict_proba(X_test)[:, 1]\n",
    "    else:\n",
    "        y_pred = best_estimators[model_name].predict(X_test)\n",
    "    \n",
    "    return scoring(y_pred, np.sort(test_scans), top_k=top_k)"
   ]
  },
  {
   "cell_type": "markdown",
   "id": "563b3588",
   "metadata": {},
   "source": [
    "## DecisionTreeClassifier"
   ]
  },
  {
   "cell_type": "code",
   "execution_count": null,
   "id": "6d742d11",
   "metadata": {},
   "outputs": [],
   "source": [
    "model_name = \"decision_tree\"\n",
    "scoring = mean_ndcg\n",
    "# scoring = mean_average_precision"
   ]
  },
  {
   "cell_type": "code",
   "execution_count": null,
   "id": "c19f6903",
   "metadata": {
    "scrolled": false
   },
   "outputs": [],
   "source": [
    "models[model_name] = DecisionTreeClassifier\n",
    "\n",
    "param_grids[model_name] = {\n",
    "    \"max_depth\": [3, 5, 7, 10], \n",
    "    \"criterion\": [\"gini\", \"entropy\"], \n",
    "    \"min_samples_leaf\": [1, 2, 3, 5, 10], \n",
    "}\n",
    "\n",
    "best_params[model_name] = kfold_cross_validation(models[model_name], param_grids[model_name], \n",
    "                                                 scoring, X_train, y_train)\n",
    "best_estimators[model_name] = models[model_name](random_state=17, **best_params[model_name])\n",
    "best_estimators[model_name].fit(X_train, y_train)"
   ]
  },
  {
   "cell_type": "code",
   "execution_count": null,
   "id": "b4cb65a5",
   "metadata": {},
   "outputs": [],
   "source": [
    "score_on_test(model_name, scoring, X_test)"
   ]
  },
  {
   "cell_type": "code",
   "execution_count": null,
   "id": "8d68c07f",
   "metadata": {},
   "outputs": [],
   "source": [
    "from dtreeviz.trees import dtreeviz\n",
    "\n",
    "# param_for_viz = {\"max_depth\": 5, \"criterion\": \"gini\", \"min_samples_leaf\": 10}\n",
    "param_for_viz = best_params[\"decision_tree\"]\n",
    "estimator_for_viz = models[\"decision_tree\"](random_state=17, **param_for_viz)\n",
    "estimator_for_viz.fit(X_train, y_train)\n",
    "\n",
    "viz = dtreeviz(estimator_for_viz, X_train, y_train,\n",
    "               target_name=\"binary_true\",\n",
    "               feature_names=X_train.columns,\n",
    "               class_names=[0, 1])\n",
    "\n",
    "viz"
   ]
  },
  {
   "cell_type": "markdown",
   "id": "7f629f7d",
   "metadata": {},
   "source": [
    "## LogisticRegression"
   ]
  },
  {
   "cell_type": "code",
   "execution_count": null,
   "id": "a5e6509b",
   "metadata": {},
   "outputs": [],
   "source": [
    "model_name = \"logreg\"\n",
    "scoring = mean_ndcg\n",
    "# scoring = mean_average_precision"
   ]
  },
  {
   "cell_type": "code",
   "execution_count": null,
   "id": "4139f606",
   "metadata": {},
   "outputs": [],
   "source": [
    "models[model_name] = LogisticRegression\n",
    "\n",
    "param_grids[model_name] = {\n",
    "    \"penalty\": [\"l1\", \"l2\"], \n",
    "    \"C\": [0.0001, 0.0002, 0.0005, 0.001, 0.002, 0.005, 0.01, 0.02, 0.05, 0.1, 0.2, 0.5, 1.0, 2.0, 5.0, 10.0], \n",
    "}\n",
    "\n",
    "best_params[model_name] = kfold_cross_validation(models[model_name], param_grids[model_name], \n",
    "                                                 scoring, X_train_normalized, y_train)\n",
    "best_estimators[model_name] = models[model_name](random_state=17, tol = 1e-6, solver = \"liblinear\", \n",
    "                                                 max_iter = 1000, **best_params[model_name])\n",
    "best_estimators[model_name].fit(X_train_normalized, y_train)"
   ]
  },
  {
   "cell_type": "code",
   "execution_count": null,
   "id": "4c26aec6",
   "metadata": {},
   "outputs": [],
   "source": [
    "print(scoring(np.array(df_test[\"pvalue\"]), test_scans))\n",
    "print(score_on_test(model_name, scoring, X_test_normalized))"
   ]
  },
  {
   "cell_type": "code",
   "execution_count": null,
   "id": "c4b60b69",
   "metadata": {},
   "outputs": [],
   "source": [
    "print(X_train_normalized.columns)\n",
    "print(best_estimators[model_name].coef_)"
   ]
  },
  {
   "cell_type": "markdown",
   "id": "0da17564",
   "metadata": {},
   "source": [
    "# Посмотрим на результаты"
   ]
  },
  {
   "cell_type": "code",
   "execution_count": null,
   "id": "2ede0a38",
   "metadata": {},
   "outputs": [],
   "source": [
    "model_name = \"logreg\"\n",
    "# model_name = \"decision_tree\"\n",
    "\n",
    "if model_name == \"logreg\":\n",
    "    y_preds = best_estimators[model_name].predict_proba(X_test_normalized)[:, 1]\n",
    "else:\n",
    "    y_preds = best_estimators[model_name].predict(X_test)\n",
    "\n",
    "df_test[\"y_pred\"] = y_preds\n",
    "\n",
    "df_viz = df_test.copy()\n",
    "# df_viz = data[[\"scan\", \"ind\", \"mass\", \"num_aa\", \"formula\", \"notblind_score\", \"notblind_pvalue\", \"score\", \"pvalue\", \n",
    "#                \"mod_node\", \"mod_mass_shift\", \"mod_mass_freq\", \"correctness\", \"binary_true\", \"y_pred\"]].copy()"
   ]
  },
  {
   "cell_type": "code",
   "execution_count": null,
   "id": "a569417e",
   "metadata": {},
   "outputs": [],
   "source": [
    "test_scans"
   ]
  },
  {
   "cell_type": "code",
   "execution_count": null,
   "id": "052c5793",
   "metadata": {},
   "outputs": [],
   "source": [
    "scan = 97\n",
    "cur_df = df_viz[df_viz[\"scan\"] == scan]\n",
    "y_true = np.array(cur_df[\"binary_true\"])\n",
    "y_pval = np.array(cur_df[\"pvalue\"])\n",
    "y_pred = np.array(cur_df[\"y_pred\"])\n",
    "new_pos = pd.Series({ind: pos for pos, ind in enumerate(cur_df.sort_values([\"y_pred\"], ascending=False).index)})\n",
    "old_pos = pd.Series({ind: pos for pos, ind in enumerate(cur_df.sort_values([\"pvalue\"], ascending=False).index)})\n",
    "cur_df[\"gained/lost\"] = old_pos - new_pos\n",
    "print(\"NDCG score before = %0.4f\" % ndcg_score(y_true.reshape(1, -1), y_pval.reshape(1, -1)))\n",
    "print(\"NDCG score after  = %0.4f\" % ndcg_score(y_true.reshape(1, -1), y_pred.reshape(1, -1)))\n",
    "print(\"AP score before = %0.4f\" % average_precision_score(y_true, y_pval))\n",
    "print(\"AP score after  = %0.4f\" % average_precision_score(y_true, y_pred))\n",
    "cur_df.sort_values([\"y_pred\"], ascending=False)#.head(10)"
   ]
  },
  {
   "cell_type": "code",
   "execution_count": null,
   "id": "1138725a",
   "metadata": {},
   "outputs": [],
   "source": [
    "# plt.figure(figsize=(10, 7))\n",
    "plt.xlabel(\"Recall\")\n",
    "plt.ylabel(\"Precision\")\n",
    "plt.title(\"Precision-Recall curve\")\n",
    "\n",
    "for scan in test_scans:\n",
    "    cur_df = df_viz[df_viz[\"scan\"] == scan]\n",
    "    if len(cur_df) > 20:\n",
    "        continue\n",
    "    y_true = np.array(cur_df[\"binary_true\"])\n",
    "    y_pval = np.array(cur_df[\"pvalue\"])\n",
    "    y_pred = np.array(cur_df[\"y_pred\"])\n",
    "    new_pos = pd.Series({ind: pos for pos, ind in enumerate(cur_df.sort_values([\"y_pred\"], ascending=False).index)})\n",
    "    old_pos = pd.Series({ind: pos for pos, ind in enumerate(cur_df.sort_values([\"pvalue\"], ascending=False).index)})\n",
    "    cur_df[\"gained/lost\"] = old_pos - new_pos\n",
    "    precision, recall, thresholds = precision_recall_curve(y_true, y_pval)\n",
    "    plt.plot(recall, precision, color='blue', linewidth=0.5, drawstyle=\"steps-post\")\n",
    "    precision, recall, thresholds = precision_recall_curve(y_true, y_pred)\n",
    "    plt.plot(recall, precision, color='red', linewidth=0.5, drawstyle=\"steps-post\")\n",
    "    print(\"Scan =\", scan)\n",
    "    print(\"AP score before     = %0.3f\" % average_precision_score(y_true, y_pval))\n",
    "    print(\"AP score after      = %0.3f\" % average_precision_score(y_true, y_pred))\n",
    "    print(\"NDCG score before   = %0.3f\" % ndcg_score(y_true.reshape(1, -1), y_pval.reshape(1, -1)))\n",
    "    print(\"NDCG score after    = %0.3f\" % ndcg_score(y_true.reshape(1, -1), y_pred.reshape(1, -1)))\n",
    "    print(\"NDCG@1 score before = %0.3f\" % ndcg_score(y_true.reshape(1, -1), y_pval.reshape(1, -1), k=1))\n",
    "    print(\"NDCG@1 score after  = %0.3f\" % ndcg_score(y_true.reshape(1, -1), y_pred.reshape(1, -1), k=1))\n",
    "    print(\"NDCG@5 score before = %0.3f\" % ndcg_score(y_true.reshape(1, -1), y_pval.reshape(1, -1), k=5))\n",
    "    print(\"NDCG@5 score after  = %0.3f\" % ndcg_score(y_true.reshape(1, -1), y_pred.reshape(1, -1), k=5))\n",
    "    print(cur_df.sort_values([\"y_pred\"], ascending=False)[[\"pvalue\", \"mod_node\", \"mod_mass_shift\", \"mod_mass_freq\", \n",
    "                                                           \"binary_true\", \"y_pred\", \"gained/lost\"\n",
    "                                                          ]])\n",
    "    plt.show()"
   ]
  },
  {
   "cell_type": "code",
   "execution_count": null,
   "id": "ca2c70c8",
   "metadata": {},
   "outputs": [],
   "source": [
    "plt.figure(figsize=(10, 7))\n",
    "plt.xlabel(\"Recall\")\n",
    "plt.ylabel(\"Precision\")\n",
    "plt.title(\"Precision-Recall curves\")\n",
    "\n",
    "for scan in test_scans:\n",
    "    cur_df = df_viz[df_viz[\"scan\"] == scan]\n",
    "    y_true = np.array(cur_df[\"binary_true\"])\n",
    "    y_pval = np.array(cur_df[\"pvalue\"])\n",
    "    y_pred = np.array(cur_df[\"y_pred\"])\n",
    "    precision, recall, thresholds = precision_recall_curve(y_true, y_pval)\n",
    "    plt.plot(recall, precision, color='blue', linewidth=0.3, drawstyle=\"steps-post\")\n",
    "#     precision, recall, thresholds = precision_recall_curve(y_true, y_pred)\n",
    "#     plt.plot(recall, precision, color='red', linewidth=0.3, drawstyle=\"steps-post\")\n",
    "plt.show()"
   ]
  },
  {
   "cell_type": "code",
   "execution_count": null,
   "id": "bd388d05",
   "metadata": {},
   "outputs": [],
   "source": [
    "def curve_interpolation(x_curve, y_curve):\n",
    "    xs, ys = [], []\n",
    "    cur_x, cur_y = 0.0, 1.0\n",
    "    for x, y in zip(x_curve, y_curve):\n",
    "        xs.append(cur_x)\n",
    "        ys.append(cur_y)\n",
    "        cur_y = y\n",
    "        xs.append(cur_x)\n",
    "        ys.append(cur_y)\n",
    "        cur_x = x\n",
    "    xs.append(cur_x)\n",
    "    ys.append(cur_y)\n",
    "    mean_x_axis = np.linspace(0.0, 1.0, num=101)\n",
    "    y_interp = np.interp(mean_x_axis, xs, ys)\n",
    "    return y_interp"
   ]
  },
  {
   "cell_type": "code",
   "execution_count": null,
   "id": "c36f016b",
   "metadata": {},
   "outputs": [],
   "source": [
    "fs = 20\n",
    "plt.figure(figsize=(16, 9))\n",
    "mean_x_axis = np.linspace(0.0, 1.0, num=101)\n",
    "\n",
    "scan = 266\n",
    "cur_df = df_viz[df_viz[\"scan\"] == scan]\n",
    "y_true = np.array(cur_df[\"binary_true\"])\n",
    "y_pval = np.array(cur_df[\"pvalue\"])\n",
    "y_pred = np.array(cur_df[\"y_pred\"])\n",
    "precision, recall, thresholds = precision_recall_curve(y_true, y_pval)\n",
    "xs, ys = [], []\n",
    "cur_x, cur_y = 0.0, 1.0\n",
    "for x, y in zip(recall[-2::-1], precision[-2::-1]):\n",
    "    xs.append(cur_x)\n",
    "    ys.append(cur_y)\n",
    "    cur_y = y\n",
    "    xs.append(cur_x)\n",
    "    ys.append(cur_y)\n",
    "    cur_x = x\n",
    "xs.append(cur_x)\n",
    "ys.append(cur_y)\n",
    "# print(recall[::-1])\n",
    "# print(precision[::-1])\n",
    "# print(xs)\n",
    "# print(ys)\n",
    "plt.plot(recall, precision, color='blue', linewidth=0.5, drawstyle=\"steps-post\")\n",
    "# plt.plot(xs, ys, color='blue', linewidth=0.5)\n",
    "ys_interp_before = np.interp(mean_x_axis, xs, ys)\n",
    "# precision, recall, thresholds = precision_recall_curve(y_true, y_pred)\n",
    "# plt.plot(recall, precision, color='red', linewidth=0.5, drawstyle=\"steps-post\")\n",
    "# ys_interp_after = np.interp(mean_x_axis, recall[::-1], precision[::-1])\n",
    "plt.plot(mean_x_axis, ys_interp_before, color='blue', linewidth=0.5)"
   ]
  },
  {
   "cell_type": "code",
   "execution_count": null,
   "id": "02cb0518",
   "metadata": {},
   "outputs": [],
   "source": [
    "fs = 20\n",
    "plt.figure(figsize=(16, 9))\n",
    "mean_x_axis = np.linspace(0.0, 1.0, num=101)\n",
    "ys_interp_before = []\n",
    "ys_interp_after = []\n",
    "\n",
    "for scan in test_scans:\n",
    "    cur_df = df_viz[df_viz[\"scan\"] == scan]\n",
    "    y_true = np.array(cur_df[\"binary_true\"])\n",
    "    y_pval = np.array(cur_df[\"pvalue\"])\n",
    "    y_pred = np.array(cur_df[\"y_pred\"])\n",
    "    precision, recall, thresholds = precision_recall_curve(y_true, y_pval)\n",
    "#     plt.plot(recall, precision, color='blue', linewidth=0.3, drawstyle=\"steps-post\")\n",
    "    ys_interp_before.append(curve_interpolation(recall[-2::-1], precision[-2::-1]))\n",
    "    precision, recall, thresholds = precision_recall_curve(y_true, y_pred)\n",
    "#     plt.plot(recall, precision, color='red', linewidth=0.3, drawstyle=\"steps-post\")\n",
    "    ys_interp_after.append(curve_interpolation(recall[-2::-1], precision[-2::-1]))\n",
    "\n",
    "mean_y_before = np.mean(ys_interp_before, axis=0)\n",
    "mean_y_after = np.mean(ys_interp_after, axis=0)\n",
    "MAP_before = mean_average_precision(df_test[\"pvalue\"].values, np.sort(test_scans))\n",
    "MAP_after = mean_average_precision(df_test[\"y_pred\"].values, np.sort(test_scans))\n",
    "print(MAP_before, MAP_after)\n",
    "\n",
    "plt.xlabel(\"Recall\", fontsize=fs)\n",
    "plt.ylabel(\"Precision\", fontsize=fs)\n",
    "plt.title(\"Average Precision-Recall curves\", fontsize=fs)\n",
    "plt.xticks(np.arange(0.0, 2.0, 0.1), fontsize=fs//2)\n",
    "plt.yticks(np.arange(0.0, 2.0, 0.02), fontsize=fs//2)\n",
    "# plt.xlim(0.0, 1.0)\n",
    "# plt.ylim(0.0, 1.0)\n",
    "plt.plot(mean_x_axis, mean_y_before, color=\"blue\", lw=2.0, \n",
    "         label=\"APR curve for standard ranking (by P-Value), MAP = %0.2f\" % MAP_before[0])\n",
    "plt.plot(mean_x_axis, mean_y_after, color=\"red\", lw=2.0, \n",
    "         label=\"APR curve after re-ranking, MAP = %0.2f\" % MAP_after[0])\n",
    "plt.legend(fontsize=fs)\n",
    "plt.savefig(\"APRcurves.png\")\n",
    "plt.show()"
   ]
  },
  {
   "cell_type": "code",
   "execution_count": null,
   "id": "1765e1d6",
   "metadata": {},
   "outputs": [],
   "source": [
    "fs = 20\n",
    "plt.figure(figsize=(16, 16))\n",
    "mean_x_axis = np.linspace(0.0, 1.0, num=101)\n",
    "ys_interp_before = []\n",
    "ys_interp_after = []\n",
    "\n",
    "for scan in test_scans:\n",
    "    cur_df = df_viz[df_viz[\"scan\"] == scan]\n",
    "    y_true = np.array(cur_df[\"binary_true\"])\n",
    "    y_pval = np.array(cur_df[\"pvalue\"])\n",
    "    y_pred = np.array(cur_df[\"y_pred\"])\n",
    "    precision, recall, thresholds = precision_recall_curve(y_true, y_pval)\n",
    "#     plt.plot(recall, precision, color='blue', linewidth=0.3, drawstyle=\"steps-post\")\n",
    "    ys_interp_before.append(curve_interpolation(recall[-2::-1], precision[-2::-1]))\n",
    "    precision, recall, thresholds = precision_recall_curve(y_true, y_pred)\n",
    "#     plt.plot(recall, precision, color='red', linewidth=0.3, drawstyle=\"steps-post\")\n",
    "    ys_interp_after.append(curve_interpolation(recall[-2::-1], precision[-2::-1]))\n",
    "\n",
    "mean_y_before = np.mean(ys_interp_before, axis=0)\n",
    "mean_y_after = np.mean(ys_interp_after, axis=0)\n",
    "MAP_before = mean_average_precision(df_test[\"pvalue\"].values, np.sort(test_scans))\n",
    "MAP_after = mean_average_precision(df_test[\"y_pred\"].values, np.sort(test_scans))\n",
    "print(MAP_before, MAP_after)\n",
    "\n",
    "plt.xlabel(\"Recall\", fontsize=fs)\n",
    "plt.ylabel(\"Precision\", fontsize=fs)\n",
    "plt.title(\"Average Precision-Recall curves\", fontsize=fs)\n",
    "plt.xticks(np.arange(0.0, 2.0, 0.1), fontsize=fs//2)\n",
    "plt.yticks(np.arange(0.0, 2.0, 0.05), fontsize=fs//2)\n",
    "plt.xlim(0.0, 1.0)\n",
    "plt.ylim(0.0, 1.0)\n",
    "plt.plot(mean_x_axis, mean_y_before, color=\"blue\", lw=2.0, \n",
    "         label=\"APR curve for standard ranking (by P-Value), MAP = %0.2f\" % MAP_before[0])\n",
    "plt.plot(mean_x_axis, mean_y_after, color=\"red\", lw=2.0, \n",
    "         label=\"APR curve after re-ranking, MAP = %0.2f\" % MAP_after[0])\n",
    "plt.legend(fontsize=fs, loc=3)\n",
    "plt.savefig(\"APRcurves(y0to1).png\")\n",
    "plt.show()"
   ]
  },
  {
   "cell_type": "code",
   "execution_count": null,
   "id": "f37cdf14",
   "metadata": {},
   "outputs": [],
   "source": []
  },
  {
   "cell_type": "code",
   "execution_count": null,
   "id": "22dd86eb",
   "metadata": {},
   "outputs": [],
   "source": []
  },
  {
   "cell_type": "code",
   "execution_count": null,
   "id": "eac371ff",
   "metadata": {},
   "outputs": [],
   "source": []
  },
  {
   "cell_type": "code",
   "execution_count": null,
   "id": "bd66722a",
   "metadata": {},
   "outputs": [],
   "source": [
    "i = []\n",
    "\n",
    "for j in data.index:\n",
    "    if abs(float(data.loc[j, \"mod_node\"].split()[1][:-1]) + data.loc[j, \"mod_mass_shift\"]) < 0.1:\n",
    "        i.append(j)\n",
    "\n",
    "data[data.index.isin(i)].tail(17)"
   ]
  },
  {
   "cell_type": "code",
   "execution_count": null,
   "id": "3de49cfe",
   "metadata": {},
   "outputs": [],
   "source": [
    "data[(data[\"correctness\"].str.startswith(\"incorrect\")) & (~data[\"correctness\"].str.startswith(\"incorrect (\"))]"
   ]
  },
  {
   "cell_type": "code",
   "execution_count": null,
   "id": "10df9948",
   "metadata": {},
   "outputs": [],
   "source": [
    "data.head(1)"
   ]
  }
 ],
 "metadata": {
  "kernelspec": {
   "display_name": "Python [conda env:py39] *",
   "language": "python",
   "name": "conda-env-py39-py"
  },
  "language_info": {
   "codemirror_mode": {
    "name": "ipython",
    "version": 3
   },
   "file_extension": ".py",
   "mimetype": "text/x-python",
   "name": "python",
   "nbconvert_exporter": "python",
   "pygments_lexer": "ipython3",
   "version": "3.9.7"
  }
 },
 "nbformat": 4,
 "nbformat_minor": 5
}
